{
 "cells": [
  {
   "attachments": {},
   "cell_type": "markdown",
   "metadata": {},
   "source": [
    "## Juego del Ahorcado\n",
    "Desarrolla el juego del ahorcado en python. En cada turno irá mostrando por pantalla ```_ _ _ _ _``` las rayas bajas correspondientes al número de letras que tiene la palabra a adivinar. El usuario deberá insertar una letra y, si esa letra existe, se mostrará o mostrarán las letras acertadas ```S _ S _ _``` en sus posiciones correspondientes. \n",
    "\n",
    "Si falla, se mostrará el número de errores que lleva y, si lleva x errores, entonces se mostrará \"Fin del juego\"."
   ]
  },
  {
   "cell_type": "code",
   "execution_count": null,
   "metadata": {},
   "outputs": [],
   "source": [
    "def juego():\n",
    "    palabra=input(\"Indique la palabra a adivinar\").upper()\n",
    "    p_oculta= ([\"_\"] * len(palabra))\n",
    "    p_lista=list(palabra)\n",
    "    letras_usadas=[]\n",
    "    victoria = \"🥳\"\n",
    "    muerte = \"😵\"\n",
    "    vidas = 3\n",
    "    print(*p_oculta)\n",
    "\n",
    "    while vidas>0 and \"_\" in p_oculta:\n",
    "        print(\"Recuerda que has usado:\", letras_usadas)\n",
    "        letra= input(\"Que letra usas\").upper()\n",
    "        letras_usadas.append(letra)\n",
    "        if letra in p_lista: \n",
    "            print(\"HAS ACERTADO\")\n",
    "            for n,letras in enumerate(p_lista):\n",
    "                if letras==letra:\n",
    "                    p_oculta[n] = letra\n",
    "            print(\"Quedan letras por descubrir:\",(p_oculta))\n",
    "        else:\n",
    "            vidas=vidas-\n",
    "            print(\"Nooo, prueba otra letra \\n Te quedan\", vidas, \"vidas.\")\n",
    "                \n",
    "    if vidas==0 or not\"_\" in p_oculta:\n",
    "        if vidas==0:\n",
    "            print(\"GAME OVER \", muerte)\n",
    "        elif not\"_\" in p_oculta:\n",
    "            print(\"CONSEGUIDO \", victoria, \"LA PALABRA ERA\", palabra.upper())\n",
    "\n",
    "juego()\n",
    "    "
   ]
  },
  {
   "cell_type": "code",
   "execution_count": null,
   "metadata": {},
   "outputs": [],
   "source": []
  }
 ],
 "metadata": {
  "kernelspec": {
   "display_name": "Python 3",
   "language": "python",
   "name": "python3"
  },
  "language_info": {
   "codemirror_mode": {
    "name": "ipython",
    "version": 3
   },
   "file_extension": ".py",
   "mimetype": "text/x-python",
   "name": "python",
   "nbconvert_exporter": "python",
   "pygments_lexer": "ipython3",
   "version": "3.13.0"
  },
  "orig_nbformat": 4
 },
 "nbformat": 4,
 "nbformat_minor": 2
}
